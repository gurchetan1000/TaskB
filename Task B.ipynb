{
 "cells": [
  {
   "cell_type": "code",
   "execution_count": 1,
   "metadata": {
    "collapsed": true
   },
   "outputs": [],
   "source": [
    "import cv2\n",
    "import os\n",
    "import numpy as np\n",
    "from PIL import Image"
   ]
  },
  {
   "cell_type": "code",
   "execution_count": 2,
   "metadata": {
    "collapsed": true
   },
   "outputs": [],
   "source": [
    "path = \"haarcascade_frontalface_default.xml\"\n",
    "\n",
    "faceCascade = cv2.CascadeClassifier(path)\n",
    "\n",
    "recognizer = cv2.createLBPHFaceRecognizer()"
   ]
  },
  {
   "cell_type": "code",
   "execution_count": 3,
   "metadata": {
    "collapsed": true
   },
   "outputs": [],
   "source": [
    "def get_images_and_labels(path):\n",
    "    \n",
    "    image_paths = [os.path.join(path, f) for f in os.listdir(path) if not f=='.DS_Store']\n",
    "    \n",
    "    images = []\n",
    "    \n",
    "    labels = []\n",
    "    for image_path in image_paths:\n",
    "        \n",
    "        image_gray = cv2.imread(image_path,0)\n",
    "        image = cv2.resize(image_gray,(400,400))\n",
    "        \n",
    "        image = np.array(image, 'uint8')\n",
    "        \n",
    "        nbr = (os.path.split(image_path)[1].split(\"_\")[0])\n",
    "        if nbr == 'kejriwal':\n",
    "        \tno=1\n",
    "        else:\n",
    "        \tno =0\n",
    "        \n",
    "        faces = faceCascade.detectMultiScale(image,1.3,5)\n",
    "        \n",
    "        for (x, y, w, h) in faces:\n",
    "            images.append(image[y: y + h, x: x + w])\n",
    "            labels.append(no)\n",
    "    \n",
    "    return images, labels"
   ]
  },
  {
   "cell_type": "code",
   "execution_count": 5,
   "metadata": {},
   "outputs": [],
   "source": [
    "path = 'train'\n",
    "\n",
    "images, labels = get_images_and_labels(path)\n",
    "recognizer.train(images, np.array(labels))"
   ]
  },
  {
   "cell_type": "code",
   "execution_count": null,
   "metadata": {
    "collapsed": true
   },
   "outputs": [],
   "source": [
    "# ans=[]\n",
    "path = 'Add path'\n",
    "predict_image_gray = cv2.imread(path,0)\n",
    "predict_image = cv2.resize(predict_image_gray,(400,400))\n",
    "predict_image = np.array(predict_image, 'uint8')\n",
    "dict_ans={'Face':0,'Kejriwal':0,'Modi':0}\n",
    "faces = faceCascade.detectMultiScale(predict_image)\n",
    "for (x, y, w, h) in faces:\n",
    "    dict_ans['Face']+=1\n",
    "    no_predicted = recognizer.predict(predict_image[y: y + h, x: x + w])\n",
    "    ans.append(no_predicted)\n",
    "    # nbr_actual = (os.path.split(image_path)[1].split(\"_\")[0])\n",
    "    if no_predicted[0] == 1:\n",
    "    \tif no_predicted[1]>10:\n",
    "            dict_ans['Kejriwal']+=1\n",
    "    elif no_predicted[0]==0:\n",
    "    \tif no_predicted[1]>10:\n",
    "    \t    dict_ans['Modi']+=1\n",
    "\n",
    "print(dict_ans)\n",
    "# print(ans)"
   ]
  }
 ],
 "metadata": {
  "kernelspec": {
   "display_name": "Python 2",
   "language": "python",
   "name": "python2"
  },
  "language_info": {
   "codemirror_mode": {
    "name": "ipython",
    "version": 2
   },
   "file_extension": ".py",
   "mimetype": "text/x-python",
   "name": "python",
   "nbconvert_exporter": "python",
   "pygments_lexer": "ipython2",
   "version": "2.7.14"
  }
 },
 "nbformat": 4,
 "nbformat_minor": 2
}
